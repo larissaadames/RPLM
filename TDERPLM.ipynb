{
  "nbformat": 4,
  "nbformat_minor": 0,
  "metadata": {
    "colab": {
      "provenance": [],
      "include_colab_link": true
    },
    "kernelspec": {
      "name": "python3",
      "display_name": "Python 3"
    },
    "language_info": {
      "name": "python"
    }
  },
  "cells": [
    {
      "cell_type": "markdown",
      "metadata": {
        "id": "view-in-github",
        "colab_type": "text"
      },
      "source": [
        "<a href=\"https://colab.research.google.com/github/larissaadames/RPLM/blob/main/TDERPLM.ipynb\" target=\"_parent\"><img src=\"https://colab.research.google.com/assets/colab-badge.svg\" alt=\"Open In Colab\"/></a>"
      ]
    },
    {
      "cell_type": "code",
      "source": [
        "pip install truth-table-generator\n"
      ],
      "metadata": {
        "id": "c-Emfq4DSp4f",
        "colab": {
          "base_uri": "https://localhost:8080/"
        },
        "outputId": "22032ca1-4965-4978-d28f-a277af8be7f9"
      },
      "execution_count": null,
      "outputs": [
        {
          "output_type": "stream",
          "name": "stdout",
          "text": [
            "Collecting truth-table-generator\n",
            "  Downloading truth_table_generator-2.0.0-py3-none-any.whl.metadata (15 kB)\n",
            "Requirement already satisfied: numpy in /usr/local/lib/python3.11/dist-packages (from truth-table-generator) (2.0.2)\n",
            "Requirement already satisfied: pandas in /usr/local/lib/python3.11/dist-packages (from truth-table-generator) (2.2.2)\n",
            "Collecting PTable (from truth-table-generator)\n",
            "  Downloading PTable-0.9.2.tar.gz (31 kB)\n",
            "  Preparing metadata (setup.py) ... \u001b[?25l\u001b[?25hdone\n",
            "Requirement already satisfied: pyparsing in /usr/local/lib/python3.11/dist-packages (from truth-table-generator) (3.2.3)\n",
            "Requirement already satisfied: tabulate in /usr/local/lib/python3.11/dist-packages (from truth-table-generator) (0.9.0)\n",
            "Requirement already satisfied: jinja2 in /usr/local/lib/python3.11/dist-packages (from truth-table-generator) (3.1.6)\n",
            "Requirement already satisfied: MarkupSafe>=2.0 in /usr/local/lib/python3.11/dist-packages (from jinja2->truth-table-generator) (3.0.2)\n",
            "Requirement already satisfied: python-dateutil>=2.8.2 in /usr/local/lib/python3.11/dist-packages (from pandas->truth-table-generator) (2.8.2)\n",
            "Requirement already satisfied: pytz>=2020.1 in /usr/local/lib/python3.11/dist-packages (from pandas->truth-table-generator) (2025.2)\n",
            "Requirement already satisfied: tzdata>=2022.7 in /usr/local/lib/python3.11/dist-packages (from pandas->truth-table-generator) (2025.2)\n",
            "Requirement already satisfied: six>=1.5 in /usr/local/lib/python3.11/dist-packages (from python-dateutil>=2.8.2->pandas->truth-table-generator) (1.17.0)\n",
            "Downloading truth_table_generator-2.0.0-py3-none-any.whl (19 kB)\n",
            "Building wheels for collected packages: PTable\n",
            "  Building wheel for PTable (setup.py) ... \u001b[?25l\u001b[?25hdone\n",
            "  Created wheel for PTable: filename=PTable-0.9.2-py3-none-any.whl size=22906 sha256=0e70b05b5c3f2d28520b192eb9acc2f3e9ce4b7fdec4bb388adbb0a0c2402346\n",
            "  Stored in directory: /root/.cache/pip/wheels/5d/5d/31/d7788a512a672caf93d8c13e298f90f3e53e72380c364a5a9a\n",
            "Successfully built PTable\n",
            "Installing collected packages: PTable, truth-table-generator\n",
            "Successfully installed PTable-0.9.2 truth-table-generator-2.0.0\n"
          ]
        }
      ]
    },
    {
      "cell_type": "code",
      "source": [
        "##ex 1 letra a\n",
        "import ttg\n",
        "x = ttg.Truths(['p','q'],['p and q or not(p)'],ints=False)\n",
        "print(x)\n",
        "print(x.valuation())"
      ],
      "metadata": {
        "id": "hQRvaKexWIXO"
      },
      "execution_count": null,
      "outputs": []
    },
    {
      "cell_type": "code",
      "source": [
        "##ex 1 letra b\n",
        "import ttg\n",
        "x = ttg.Truths(['p','q'],['p=>q = not(q) or p'],ints=False)\n",
        "print(x)\n",
        "print(x.valuation())"
      ],
      "metadata": {
        "colab": {
          "base_uri": "https://localhost:8080/"
        },
        "id": "2PioPKDGYeVC",
        "outputId": "e3686001-2107-4ef9-edff-151d8f5324b7"
      },
      "execution_count": null,
      "outputs": [
        {
          "output_type": "stream",
          "name": "stdout",
          "text": [
            "+-------+-------+----------------------+\n",
            "|   p   |   q   |  p=>q = not(q) or p  |\n",
            "|-------+-------+----------------------|\n",
            "| True  | True  |         True         |\n",
            "| True  | False |        False         |\n",
            "| False | True  |        False         |\n",
            "| False | False |         True         |\n",
            "+-------+-------+----------------------+\n",
            "Contingency\n"
          ]
        }
      ]
    },
    {
      "cell_type": "code",
      "source": [
        "##ex 1 letra c\n",
        "import ttg\n",
        "x = ttg.Truths(['p','q'],['(not(p) or not(q)) and p and not(p = q)'],ints=False)\n",
        "print(x)\n",
        "print(x.valuation())"
      ],
      "metadata": {
        "colab": {
          "base_uri": "https://localhost:8080/"
        },
        "id": "5SXssVUZZKAk",
        "outputId": "9ee1558f-0c19-483b-e6b3-5858420b735c"
      },
      "execution_count": null,
      "outputs": [
        {
          "output_type": "stream",
          "name": "stdout",
          "text": [
            "+-------+-------+-------------------------------------------+\n",
            "|   p   |   q   |  (not(p) or not(q)) and p and not(p = q)  |\n",
            "|-------+-------+-------------------------------------------|\n",
            "| True  | True  |                   False                   |\n",
            "| True  | False |                   True                    |\n",
            "| False | True  |                   False                   |\n",
            "| False | False |                   False                   |\n",
            "+-------+-------+-------------------------------------------+\n",
            "Contingency\n"
          ]
        }
      ]
    },
    {
      "cell_type": "code",
      "source": [
        "##ex 1 letra d\n",
        "import ttg\n",
        "x = ttg.Truths(['p','q'],['not(p) = not(q) and p = not(p) or not(q)'],ints=False)\n",
        "print(x)\n",
        "print(x.valuation())"
      ],
      "metadata": {
        "colab": {
          "base_uri": "https://localhost:8080/"
        },
        "id": "rS3HmRsuZ9Sg",
        "outputId": "ce7e9060-b8aa-40be-9e48-fbcc006d1081"
      },
      "execution_count": null,
      "outputs": [
        {
          "output_type": "stream",
          "name": "stdout",
          "text": [
            "+-------+-------+--------------------------------------------+\n",
            "|   p   |   q   |  not(p) = not(q) and p = not(p) or not(q)  |\n",
            "|-------+-------+--------------------------------------------|\n",
            "| True  | True  |                   False                    |\n",
            "| True  | False |                   False                    |\n",
            "| False | True  |                   False                    |\n",
            "| False | False |                   False                    |\n",
            "+-------+-------+--------------------------------------------+\n",
            "Contradiction\n"
          ]
        }
      ]
    },
    {
      "cell_type": "code",
      "source": [
        "##ex 1 letra e\n",
        "import ttg\n",
        "x = ttg.Truths(['p','q','r'],['p=((q or q) => not(r))'],ints=False)\n",
        "print(x)\n",
        "print(x.valuation())"
      ],
      "metadata": {
        "colab": {
          "base_uri": "https://localhost:8080/"
        },
        "id": "PvZ1TWzlbj23",
        "outputId": "e0b31b9e-a3df-4f5c-a43b-79d7e82bcdb6"
      },
      "execution_count": null,
      "outputs": [
        {
          "output_type": "stream",
          "name": "stdout",
          "text": [
            "+-------+-------+-------+--------------------------+\n",
            "|   p   |   q   |   r   |  p=((q or q) => not(r))  |\n",
            "|-------+-------+-------+--------------------------|\n",
            "| True  | True  | True  |          False           |\n",
            "| True  | True  | False |           True           |\n",
            "| True  | False | True  |           True           |\n",
            "| True  | False | False |           True           |\n",
            "| False | True  | True  |           True           |\n",
            "| False | True  | False |          False           |\n",
            "| False | False | True  |          False           |\n",
            "| False | False | False |          False           |\n",
            "+-------+-------+-------+--------------------------+\n",
            "Contingency\n"
          ]
        }
      ]
    },
    {
      "cell_type": "code",
      "source": [
        "##ex 1 letra f\n",
        "import ttg\n",
        "x = ttg.Truths(['p','q'],['(q and p and not(q)) = (p => not(q))'],ints=False)\n",
        "print(x)\n",
        "print(x.valuation())"
      ],
      "metadata": {
        "colab": {
          "base_uri": "https://localhost:8080/"
        },
        "id": "RmAIMCWWcNm1",
        "outputId": "f0d5f665-ccbf-4a21-f695-c58dd6787626"
      },
      "execution_count": null,
      "outputs": [
        {
          "output_type": "stream",
          "name": "stdout",
          "text": [
            "+-------+-------+----------------------------------------+\n",
            "|   p   |   q   |  (q and p and not(q)) = (p => not(q))  |\n",
            "|-------+-------+----------------------------------------|\n",
            "| True  | True  |                  True                  |\n",
            "| True  | False |                 False                  |\n",
            "| False | True  |                 False                  |\n",
            "| False | False |                 False                  |\n",
            "+-------+-------+----------------------------------------+\n",
            "Contingency\n"
          ]
        }
      ]
    },
    {
      "cell_type": "code",
      "source": [
        "##ex 1 letra g\n",
        "import ttg\n",
        "x = ttg.Truths(['p','q','r'],['not(p) or q and r => r => not(p) or q'],ints=False)\n",
        "print(x)\n",
        "print(x.valuation())"
      ],
      "metadata": {
        "colab": {
          "base_uri": "https://localhost:8080/"
        },
        "id": "vdfXqdscdINg",
        "outputId": "de793fc5-cd0a-4df9-dbf0-780ee8cde0ce"
      },
      "execution_count": null,
      "outputs": [
        {
          "output_type": "stream",
          "name": "stdout",
          "text": [
            "+-------+-------+-------+-----------------------------------------+\n",
            "|   p   |   q   |   r   |  not(p) or q and r => r => not(p) or q  |\n",
            "|-------+-------+-------+-----------------------------------------|\n",
            "| True  | True  | True  |                  True                   |\n",
            "| True  | True  | False |                  True                   |\n",
            "| True  | False | True  |                  False                  |\n",
            "| True  | False | False |                  False                  |\n",
            "| False | True  | True  |                  True                   |\n",
            "| False | True  | False |                  True                   |\n",
            "| False | False | True  |                  True                   |\n",
            "| False | False | False |                  True                   |\n",
            "+-------+-------+-------+-----------------------------------------+\n",
            "Contingency\n"
          ]
        }
      ]
    },
    {
      "cell_type": "code",
      "source": [
        "# Parte 2:\n",
        "# a.\n",
        "\n",
        "import ttg\n",
        "x = ttg.Truths(['p','q'],['not(p) or not(q)'],ints=False)\n",
        "print(x)\n",
        "print(x.valuation())\n"
      ],
      "metadata": {
        "id": "cb7tVu3UggRD",
        "colab": {
          "base_uri": "https://localhost:8080/"
        },
        "outputId": "ea696b9b-efbe-4334-e5af-5ff9826f1d3e"
      },
      "execution_count": null,
      "outputs": [
        {
          "output_type": "stream",
          "name": "stdout",
          "text": [
            "+-------+-------+--------------------+\n",
            "|   p   |   q   |  not(p) or not(q)  |\n",
            "|-------+-------+--------------------|\n",
            "| True  | True  |       False        |\n",
            "| True  | False |        True        |\n",
            "| False | True  |        True        |\n",
            "| False | False |        True        |\n",
            "+-------+-------+--------------------+\n",
            "Contingency\n"
          ]
        }
      ]
    },
    {
      "cell_type": "code",
      "source": [
        "# Parte 2\n",
        "# b.\n",
        "\n",
        "import ttg\n",
        "x = ttg.Truths(['p','q','r'],['((p or not(q)) or not(r)) or ((not(p) or q ) or r)'],ints=False)\n",
        "print(x)\n",
        "print(x.valuation())"
      ],
      "metadata": {
        "id": "u46PJ0X3jW6f",
        "colab": {
          "base_uri": "https://localhost:8080/"
        },
        "outputId": "5e9816fa-47a3-448a-ab87-66c80cae7332"
      },
      "execution_count": null,
      "outputs": [
        {
          "output_type": "stream",
          "name": "stdout",
          "text": [
            "+-------+-------+-------+------------------------------------------------------+\n",
            "|   p   |   q   |   r   |  ((p or not(q)) or not(r)) or ((not(p) or q ) or r)  |\n",
            "|-------+-------+-------+------------------------------------------------------|\n",
            "| True  | True  | True  |                         True                         |\n",
            "| True  | True  | False |                         True                         |\n",
            "| True  | False | True  |                         True                         |\n",
            "| True  | False | False |                         True                         |\n",
            "| False | True  | True  |                         True                         |\n",
            "| False | True  | False |                         True                         |\n",
            "| False | False | True  |                         True                         |\n",
            "| False | False | False |                         True                         |\n",
            "+-------+-------+-------+------------------------------------------------------+\n",
            "Tautology\n"
          ]
        }
      ]
    },
    {
      "cell_type": "code",
      "source": [
        "# Parte 2\n",
        "# c.\n",
        "\n",
        "import ttg\n",
        "x = ttg.Truths(['p','q'],['(p and q ) => (p or q)'],ints=False)\n",
        "print(x)\n",
        "print(x.valuation())"
      ],
      "metadata": {
        "colab": {
          "base_uri": "https://localhost:8080/"
        },
        "id": "JG3vC3HA1jUo",
        "outputId": "1530a395-4377-40ea-d8e9-722695053996"
      },
      "execution_count": null,
      "outputs": [
        {
          "output_type": "stream",
          "name": "stdout",
          "text": [
            "+-------+-------+--------------------------+\n",
            "|   p   |   q   |  (p and q ) => (p or q)  |\n",
            "|-------+-------+--------------------------|\n",
            "| True  | True  |           True           |\n",
            "| True  | False |           True           |\n",
            "| False | True  |           True           |\n",
            "| False | False |           True           |\n",
            "+-------+-------+--------------------------+\n",
            "Tautology\n"
          ]
        }
      ]
    },
    {
      "cell_type": "code",
      "source": [
        "# Parte 2\n",
        "# d\n",
        "\n",
        "import ttg\n",
        "x = ttg.Truths(['p','q','r'],['(p and q) or r'],ints=False)\n",
        "print(x)\n",
        "print(x.valuation())"
      ],
      "metadata": {
        "colab": {
          "base_uri": "https://localhost:8080/"
        },
        "id": "Dd-8eygpMRoQ",
        "outputId": "3557eea8-333e-4a78-d5e0-b25fcdd16d7e"
      },
      "execution_count": null,
      "outputs": [
        {
          "output_type": "stream",
          "name": "stdout",
          "text": [
            "+-------+-------+-------+------------------+\n",
            "|   p   |   q   |   r   |  (p and q) or r  |\n",
            "|-------+-------+-------+------------------|\n",
            "| True  | True  | True  |       True       |\n",
            "| True  | True  | False |       True       |\n",
            "| True  | False | True  |       True       |\n",
            "| True  | False | False |      False       |\n",
            "| False | True  | True  |       True       |\n",
            "| False | True  | False |      False       |\n",
            "| False | False | True  |       True       |\n",
            "| False | False | False |      False       |\n",
            "+-------+-------+-------+------------------+\n",
            "Contingency\n"
          ]
        }
      ]
    },
    {
      "cell_type": "code",
      "source": [
        "# Parte 2\n",
        "# e\n",
        "\n",
        "import ttg\n",
        "x = ttg.Truths(['p','q'],['(p and q) => p'],ints=False)\n",
        "print(x)\n",
        "print(x.valuation())"
      ],
      "metadata": {
        "colab": {
          "base_uri": "https://localhost:8080/"
        },
        "id": "gmPkoyKPNDUx",
        "outputId": "9a39fc62-7935-4455-a64d-592c56faf8de"
      },
      "execution_count": null,
      "outputs": [
        {
          "output_type": "stream",
          "name": "stdout",
          "text": [
            "+-------+-------+------------------+\n",
            "|   p   |   q   |  (p and q) => p  |\n",
            "|-------+-------+------------------|\n",
            "| True  | True  |       True       |\n",
            "| True  | False |       True       |\n",
            "| False | True  |       True       |\n",
            "| False | False |       True       |\n",
            "+-------+-------+------------------+\n",
            "Tautology\n"
          ]
        }
      ]
    },
    {
      "cell_type": "code",
      "source": [
        "# Parte 2\n",
        "# f\n",
        "\n",
        "import ttg\n",
        "x = ttg.Truths(['p','q'],['p => (p or q)'],ints=False)\n",
        "print(x)\n",
        "print(x.valuation())"
      ],
      "metadata": {
        "colab": {
          "base_uri": "https://localhost:8080/"
        },
        "id": "HIfUDk9tNP6r",
        "outputId": "def767a8-dc4c-461a-9def-c5c151fc5888"
      },
      "execution_count": null,
      "outputs": [
        {
          "output_type": "stream",
          "name": "stdout",
          "text": [
            "+-------+-------+-----------------+\n",
            "|   p   |   q   |  p => (p or q)  |\n",
            "|-------+-------+-----------------|\n",
            "| True  | True  |      True       |\n",
            "| True  | False |      True       |\n",
            "| False | True  |      True       |\n",
            "| False | False |      True       |\n",
            "+-------+-------+-----------------+\n",
            "Tautology\n"
          ]
        }
      ]
    },
    {
      "cell_type": "code",
      "source": [
        "# Parte 2\n",
        "# g\n",
        "\n",
        "import ttg\n",
        "x = ttg.Truths(['p','q'],['(p and ( p => q )) => q'],ints=False)\n",
        "print(x)\n",
        "print(x.valuation())"
      ],
      "metadata": {
        "colab": {
          "base_uri": "https://localhost:8080/"
        },
        "id": "xHsMgTulNfFn",
        "outputId": "21f0f324-d6d1-4e1d-bb74-6ff9ed10725e"
      },
      "execution_count": null,
      "outputs": [
        {
          "output_type": "stream",
          "name": "stdout",
          "text": [
            "+-------+-------+---------------------------+\n",
            "|   p   |   q   |  (p and ( p => q )) => q  |\n",
            "|-------+-------+---------------------------|\n",
            "| True  | True  |           True            |\n",
            "| True  | False |           True            |\n",
            "| False | True  |           True            |\n",
            "| False | False |           True            |\n",
            "+-------+-------+---------------------------+\n",
            "Tautology\n"
          ]
        }
      ]
    },
    {
      "cell_type": "code",
      "source": [
        "# Parte 2\n",
        "# h\n",
        "\n",
        "import ttg\n",
        "x = ttg.Truths(['p','q'],['((p => q) and not(q)) => not(q)'],ints=False)\n",
        "print(x)\n",
        "print(x.valuation())"
      ],
      "metadata": {
        "colab": {
          "base_uri": "https://localhost:8080/"
        },
        "id": "uS2o4aGnNzAN",
        "outputId": "7e4816c9-f81d-4d1e-905f-7b4936e27d8c"
      },
      "execution_count": null,
      "outputs": [
        {
          "output_type": "stream",
          "name": "stdout",
          "text": [
            "+-------+-------+-----------------------------------+\n",
            "|   p   |   q   |  ((p => q) and not(q)) => not(q)  |\n",
            "|-------+-------+-----------------------------------|\n",
            "| True  | True  |               True                |\n",
            "| True  | False |               True                |\n",
            "| False | True  |               True                |\n",
            "| False | False |               True                |\n",
            "+-------+-------+-----------------------------------+\n",
            "Tautology\n"
          ]
        }
      ]
    },
    {
      "cell_type": "code",
      "source": [
        "# Parte 2\n",
        "# i\n",
        "\n",
        "import ttg\n",
        "x = ttg.Truths(['p','q'],['(p and q) and not(p)'],ints=False)\n",
        "print(x)\n",
        "print(x.valuation())"
      ],
      "metadata": {
        "id": "JwVEynceOCHX"
      },
      "execution_count": null,
      "outputs": []
    },
    {
      "cell_type": "code",
      "source": [
        "# Parte 2\n",
        "# j\n",
        "\n",
        "import ttg\n",
        "x = ttg.Truths(['p','q','r'],['((p or not(q)) and r) and ((p and q) or not(r))'],ints=False)\n",
        "print(x)\n",
        "print(x.valuation())"
      ],
      "metadata": {
        "colab": {
          "base_uri": "https://localhost:8080/"
        },
        "id": "0pQ5KhnXOQp7",
        "outputId": "e6c9eafe-372f-4f1a-fbcf-3d3feca8f0bf"
      },
      "execution_count": null,
      "outputs": [
        {
          "output_type": "stream",
          "name": "stdout",
          "text": [
            "+-------+-------+-------+---------------------------------------------------+\n",
            "|   p   |   q   |   r   |  ((p or not(q)) and r) and ((p and q) or not(r))  |\n",
            "|-------+-------+-------+---------------------------------------------------|\n",
            "| True  | True  | True  |                       True                        |\n",
            "| True  | True  | False |                       False                       |\n",
            "| True  | False | True  |                       False                       |\n",
            "| True  | False | False |                       False                       |\n",
            "| False | True  | True  |                       False                       |\n",
            "| False | True  | False |                       False                       |\n",
            "| False | False | True  |                       False                       |\n",
            "| False | False | False |                       False                       |\n",
            "+-------+-------+-------+---------------------------------------------------+\n",
            "Contingency\n"
          ]
        }
      ]
    },
    {
      "cell_type": "code",
      "source": [
        "##ex 3 letra a\n",
        "import ttg\n",
        "x = ttg.Truths(['p','q','r','s'],['(p => not(q)) and (not(r)=> s) and q)=> s'],ints=False)\n",
        "print(x)\n",
        "print(x.valuation())"
      ],
      "metadata": {
        "colab": {
          "base_uri": "https://localhost:8080/"
        },
        "id": "_d0O2Uqrg1Ls",
        "outputId": "6c308e26-5765-42d6-fde9-eb0d3247f3df"
      },
      "execution_count": null,
      "outputs": [
        {
          "output_type": "stream",
          "name": "stdout",
          "text": [
            "+-------+-------+-------+-------+---------------------------------------------+\n",
            "|   p   |   q   |   r   |   s   |  (p => not(q)) and (not(r)=> s) and q)=> s  |\n",
            "|-------+-------+-------+-------+---------------------------------------------|\n",
            "| True  | True  | True  | True  |                    False                    |\n",
            "| True  | True  | True  | False |                    False                    |\n",
            "| True  | True  | False | True  |                    False                    |\n",
            "| True  | True  | False | False |                    False                    |\n",
            "| True  | False | True  | True  |                    False                    |\n",
            "| True  | False | True  | False |                    False                    |\n",
            "| True  | False | False | True  |                    False                    |\n",
            "| True  | False | False | False |                    False                    |\n",
            "| False | True  | True  | True  |                    True                     |\n",
            "| False | True  | True  | False |                    True                     |\n",
            "| False | True  | False | True  |                    True                     |\n",
            "| False | True  | False | False |                    False                    |\n",
            "| False | False | True  | True  |                    False                    |\n",
            "| False | False | True  | False |                    False                    |\n",
            "| False | False | False | True  |                    False                    |\n",
            "| False | False | False | False |                    False                    |\n",
            "+-------+-------+-------+-------+---------------------------------------------+\n",
            "Contingency\n"
          ]
        }
      ]
    },
    {
      "cell_type": "code",
      "source": [
        "##ex 3 letra b\n",
        "import ttg\n",
        "x = ttg.Truths(['p','q','r'],['(not(p) => q) => (not(r or p) => q)'],ints=False)\n",
        "print(x)\n",
        "print(x.valuation())"
      ],
      "metadata": {
        "colab": {
          "base_uri": "https://localhost:8080/"
        },
        "id": "097PVe4jmdIl",
        "outputId": "872a04e1-7173-480c-b35b-fb45be19dc2a"
      },
      "execution_count": null,
      "outputs": [
        {
          "output_type": "stream",
          "name": "stdout",
          "text": [
            "+-------+-------+-------+---------------------------------------+\n",
            "|   p   |   q   |   r   |  (not(p) => q) => (not(r or p) => q)  |\n",
            "|-------+-------+-------+---------------------------------------|\n",
            "| True  | True  | True  |                 True                  |\n",
            "| True  | True  | False |                 True                  |\n",
            "| True  | False | True  |                 True                  |\n",
            "| True  | False | False |                 True                  |\n",
            "| False | True  | True  |                 True                  |\n",
            "| False | True  | False |                 True                  |\n",
            "| False | False | True  |                 True                  |\n",
            "| False | False | False |                 True                  |\n",
            "+-------+-------+-------+---------------------------------------+\n",
            "Tautology\n"
          ]
        }
      ]
    },
    {
      "cell_type": "code",
      "source": [
        "##ex 3 letra c\n",
        "import ttg\n",
        "x = ttg.Truths(['p','q','r'],['((p or q) and not(r)) => q'],ints=False)\n",
        "print(x)\n",
        "print(x.valuation())"
      ],
      "metadata": {
        "colab": {
          "base_uri": "https://localhost:8080/"
        },
        "id": "LJB5xExwoZ6N",
        "outputId": "a517f0a3-0276-4ae9-c314-26ebe1c79467"
      },
      "execution_count": null,
      "outputs": [
        {
          "output_type": "stream",
          "name": "stdout",
          "text": [
            "+-------+-------+-------+------------------------------+\n",
            "|   p   |   q   |   r   |  ((p or q) and not(r)) => q  |\n",
            "|-------+-------+-------+------------------------------|\n",
            "| True  | True  | True  |             True             |\n",
            "| True  | True  | False |             True             |\n",
            "| True  | False | True  |             True             |\n",
            "| True  | False | False |            False             |\n",
            "| False | True  | True  |             True             |\n",
            "| False | True  | False |             True             |\n",
            "| False | False | True  |             True             |\n",
            "| False | False | False |             True             |\n",
            "+-------+-------+-------+------------------------------+\n",
            "Contingency\n"
          ]
        }
      ]
    },
    {
      "cell_type": "code",
      "source": [
        "# 3 letra d\n",
        "import ttg\n",
        "x = ttg.Truths(['p','q','r'],['((p => not(q)) and (p or r) and (r and not(q))) => not(p)'],ints=False)\n",
        "print(x)\n",
        "print(x.valuation())"
      ],
      "metadata": {
        "colab": {
          "base_uri": "https://localhost:8080/"
        },
        "id": "kYf7XZtlpSXq",
        "outputId": "ab96d928-5dd3-4e93-8bf3-bf429543cb4b"
      },
      "execution_count": null,
      "outputs": [
        {
          "output_type": "stream",
          "name": "stdout",
          "text": [
            "+-------+-------+-------+-------------------------------------------------------------+\n",
            "|   p   |   q   |   r   |  ((p => not(q)) and (p or r) and (r and not(q))) => not(p)  |\n",
            "|-------+-------+-------+-------------------------------------------------------------|\n",
            "| True  | True  | True  |                            True                             |\n",
            "| True  | True  | False |                            True                             |\n",
            "| True  | False | True  |                            False                            |\n",
            "| True  | False | False |                            True                             |\n",
            "| False | True  | True  |                            True                             |\n",
            "| False | True  | False |                            True                             |\n",
            "| False | False | True  |                            True                             |\n",
            "| False | False | False |                            True                             |\n",
            "+-------+-------+-------+-------------------------------------------------------------+\n",
            "Contingency\n"
          ]
        }
      ]
    },
    {
      "cell_type": "code",
      "source": [
        "# Parte 3\n",
        "# e\n",
        "\n",
        "import ttg\n",
        "\n",
        "x = ttg.Truths(['p','q','r','s','t','u','v'],['(p and q and r) and ((q and p) => (s => (not(t) or u))) and (not(s) and not(v) and not(u)) => not(t)'],ints=False)\n",
        "print(x)\n",
        "print(x.valuation)"
      ],
      "metadata": {
        "colab": {
          "base_uri": "https://localhost:8080/"
        },
        "id": "1zFrQSYBuLPw",
        "outputId": "dba0f0f9-1bea-477d-d95d-09733562de3a"
      },
      "execution_count": null,
      "outputs": [
        {
          "output_type": "stream",
          "name": "stdout",
          "text": [
            "+-------+-------+-------+-------+-------+-------+-------+--------------------------------------------------------------------------------------------------------+\n",
            "|   p   |   q   |   r   |   s   |   t   |   u   |   v   |  (p and q and r) and ((q and p) => (s => (not(t) or u))) and (not(s) and not(v) and not(u)) => not(t)  |\n",
            "|-------+-------+-------+-------+-------+-------+-------+--------------------------------------------------------------------------------------------------------|\n",
            "| True  | True  | True  | True  | True  | True  | True  |                                                  True                                                  |\n",
            "| True  | True  | True  | True  | True  | True  | False |                                                  True                                                  |\n",
            "| True  | True  | True  | True  | True  | False | True  |                                                 False                                                  |\n",
            "| True  | True  | True  | True  | True  | False | False |                                                 False                                                  |\n",
            "| True  | True  | True  | True  | False | True  | True  |                                                  True                                                  |\n",
            "| True  | True  | True  | True  | False | True  | False |                                                  True                                                  |\n",
            "| True  | True  | True  | True  | False | False | True  |                                                  True                                                  |\n",
            "| True  | True  | True  | True  | False | False | False |                                                  True                                                  |\n",
            "| True  | True  | True  | False | True  | True  | True  |                                                  True                                                  |\n",
            "| True  | True  | True  | False | True  | True  | False |                                                  True                                                  |\n",
            "| True  | True  | True  | False | True  | False | True  |                                                  True                                                  |\n",
            "| True  | True  | True  | False | True  | False | False |                                                 False                                                  |\n",
            "| True  | True  | True  | False | False | True  | True  |                                                  True                                                  |\n",
            "| True  | True  | True  | False | False | True  | False |                                                  True                                                  |\n",
            "| True  | True  | True  | False | False | False | True  |                                                  True                                                  |\n",
            "| True  | True  | True  | False | False | False | False |                                                  True                                                  |\n",
            "| True  | True  | False | True  | True  | True  | True  |                                                 False                                                  |\n",
            "| True  | True  | False | True  | True  | True  | False |                                                 False                                                  |\n",
            "| True  | True  | False | True  | True  | False | True  |                                                 False                                                  |\n",
            "| True  | True  | False | True  | True  | False | False |                                                 False                                                  |\n",
            "| True  | True  | False | True  | False | True  | True  |                                                 False                                                  |\n",
            "| True  | True  | False | True  | False | True  | False |                                                 False                                                  |\n",
            "| True  | True  | False | True  | False | False | True  |                                                 False                                                  |\n",
            "| True  | True  | False | True  | False | False | False |                                                 False                                                  |\n",
            "| True  | True  | False | False | True  | True  | True  |                                                 False                                                  |\n",
            "| True  | True  | False | False | True  | True  | False |                                                 False                                                  |\n",
            "| True  | True  | False | False | True  | False | True  |                                                 False                                                  |\n",
            "| True  | True  | False | False | True  | False | False |                                                 False                                                  |\n",
            "| True  | True  | False | False | False | True  | True  |                                                 False                                                  |\n",
            "| True  | True  | False | False | False | True  | False |                                                 False                                                  |\n",
            "| True  | True  | False | False | False | False | True  |                                                 False                                                  |\n",
            "| True  | True  | False | False | False | False | False |                                                 False                                                  |\n",
            "| True  | False | True  | True  | True  | True  | True  |                                                 False                                                  |\n",
            "| True  | False | True  | True  | True  | True  | False |                                                 False                                                  |\n",
            "| True  | False | True  | True  | True  | False | True  |                                                 False                                                  |\n",
            "| True  | False | True  | True  | True  | False | False |                                                 False                                                  |\n",
            "| True  | False | True  | True  | False | True  | True  |                                                 False                                                  |\n",
            "| True  | False | True  | True  | False | True  | False |                                                 False                                                  |\n",
            "| True  | False | True  | True  | False | False | True  |                                                 False                                                  |\n",
            "| True  | False | True  | True  | False | False | False |                                                 False                                                  |\n",
            "| True  | False | True  | False | True  | True  | True  |                                                 False                                                  |\n",
            "| True  | False | True  | False | True  | True  | False |                                                 False                                                  |\n",
            "| True  | False | True  | False | True  | False | True  |                                                 False                                                  |\n",
            "| True  | False | True  | False | True  | False | False |                                                 False                                                  |\n",
            "| True  | False | True  | False | False | True  | True  |                                                 False                                                  |\n",
            "| True  | False | True  | False | False | True  | False |                                                 False                                                  |\n",
            "| True  | False | True  | False | False | False | True  |                                                 False                                                  |\n",
            "| True  | False | True  | False | False | False | False |                                                 False                                                  |\n",
            "| True  | False | False | True  | True  | True  | True  |                                                 False                                                  |\n",
            "| True  | False | False | True  | True  | True  | False |                                                 False                                                  |\n",
            "| True  | False | False | True  | True  | False | True  |                                                 False                                                  |\n",
            "| True  | False | False | True  | True  | False | False |                                                 False                                                  |\n",
            "| True  | False | False | True  | False | True  | True  |                                                 False                                                  |\n",
            "| True  | False | False | True  | False | True  | False |                                                 False                                                  |\n",
            "| True  | False | False | True  | False | False | True  |                                                 False                                                  |\n",
            "| True  | False | False | True  | False | False | False |                                                 False                                                  |\n",
            "| True  | False | False | False | True  | True  | True  |                                                 False                                                  |\n",
            "| True  | False | False | False | True  | True  | False |                                                 False                                                  |\n",
            "| True  | False | False | False | True  | False | True  |                                                 False                                                  |\n",
            "| True  | False | False | False | True  | False | False |                                                 False                                                  |\n",
            "| True  | False | False | False | False | True  | True  |                                                 False                                                  |\n",
            "| True  | False | False | False | False | True  | False |                                                 False                                                  |\n",
            "| True  | False | False | False | False | False | True  |                                                 False                                                  |\n",
            "| True  | False | False | False | False | False | False |                                                 False                                                  |\n",
            "| False | True  | True  | True  | True  | True  | True  |                                                 False                                                  |\n",
            "| False | True  | True  | True  | True  | True  | False |                                                 False                                                  |\n",
            "| False | True  | True  | True  | True  | False | True  |                                                 False                                                  |\n",
            "| False | True  | True  | True  | True  | False | False |                                                 False                                                  |\n",
            "| False | True  | True  | True  | False | True  | True  |                                                 False                                                  |\n",
            "| False | True  | True  | True  | False | True  | False |                                                 False                                                  |\n",
            "| False | True  | True  | True  | False | False | True  |                                                 False                                                  |\n",
            "| False | True  | True  | True  | False | False | False |                                                 False                                                  |\n",
            "| False | True  | True  | False | True  | True  | True  |                                                 False                                                  |\n",
            "| False | True  | True  | False | True  | True  | False |                                                 False                                                  |\n",
            "| False | True  | True  | False | True  | False | True  |                                                 False                                                  |\n",
            "| False | True  | True  | False | True  | False | False |                                                 False                                                  |\n",
            "| False | True  | True  | False | False | True  | True  |                                                 False                                                  |\n",
            "| False | True  | True  | False | False | True  | False |                                                 False                                                  |\n",
            "| False | True  | True  | False | False | False | True  |                                                 False                                                  |\n",
            "| False | True  | True  | False | False | False | False |                                                 False                                                  |\n",
            "| False | True  | False | True  | True  | True  | True  |                                                 False                                                  |\n",
            "| False | True  | False | True  | True  | True  | False |                                                 False                                                  |\n",
            "| False | True  | False | True  | True  | False | True  |                                                 False                                                  |\n",
            "| False | True  | False | True  | True  | False | False |                                                 False                                                  |\n",
            "| False | True  | False | True  | False | True  | True  |                                                 False                                                  |\n",
            "| False | True  | False | True  | False | True  | False |                                                 False                                                  |\n",
            "| False | True  | False | True  | False | False | True  |                                                 False                                                  |\n",
            "| False | True  | False | True  | False | False | False |                                                 False                                                  |\n",
            "| False | True  | False | False | True  | True  | True  |                                                 False                                                  |\n",
            "| False | True  | False | False | True  | True  | False |                                                 False                                                  |\n",
            "| False | True  | False | False | True  | False | True  |                                                 False                                                  |\n",
            "| False | True  | False | False | True  | False | False |                                                 False                                                  |\n",
            "| False | True  | False | False | False | True  | True  |                                                 False                                                  |\n",
            "| False | True  | False | False | False | True  | False |                                                 False                                                  |\n",
            "| False | True  | False | False | False | False | True  |                                                 False                                                  |\n",
            "| False | True  | False | False | False | False | False |                                                 False                                                  |\n",
            "| False | False | True  | True  | True  | True  | True  |                                                 False                                                  |\n",
            "| False | False | True  | True  | True  | True  | False |                                                 False                                                  |\n",
            "| False | False | True  | True  | True  | False | True  |                                                 False                                                  |\n",
            "| False | False | True  | True  | True  | False | False |                                                 False                                                  |\n",
            "| False | False | True  | True  | False | True  | True  |                                                 False                                                  |\n",
            "| False | False | True  | True  | False | True  | False |                                                 False                                                  |\n",
            "| False | False | True  | True  | False | False | True  |                                                 False                                                  |\n",
            "| False | False | True  | True  | False | False | False |                                                 False                                                  |\n",
            "| False | False | True  | False | True  | True  | True  |                                                 False                                                  |\n",
            "| False | False | True  | False | True  | True  | False |                                                 False                                                  |\n",
            "| False | False | True  | False | True  | False | True  |                                                 False                                                  |\n",
            "| False | False | True  | False | True  | False | False |                                                 False                                                  |\n",
            "| False | False | True  | False | False | True  | True  |                                                 False                                                  |\n",
            "| False | False | True  | False | False | True  | False |                                                 False                                                  |\n",
            "| False | False | True  | False | False | False | True  |                                                 False                                                  |\n",
            "| False | False | True  | False | False | False | False |                                                 False                                                  |\n",
            "| False | False | False | True  | True  | True  | True  |                                                 False                                                  |\n",
            "| False | False | False | True  | True  | True  | False |                                                 False                                                  |\n",
            "| False | False | False | True  | True  | False | True  |                                                 False                                                  |\n",
            "| False | False | False | True  | True  | False | False |                                                 False                                                  |\n",
            "| False | False | False | True  | False | True  | True  |                                                 False                                                  |\n",
            "| False | False | False | True  | False | True  | False |                                                 False                                                  |\n",
            "| False | False | False | True  | False | False | True  |                                                 False                                                  |\n",
            "| False | False | False | True  | False | False | False |                                                 False                                                  |\n",
            "| False | False | False | False | True  | True  | True  |                                                 False                                                  |\n",
            "| False | False | False | False | True  | True  | False |                                                 False                                                  |\n",
            "| False | False | False | False | True  | False | True  |                                                 False                                                  |\n",
            "| False | False | False | False | True  | False | False |                                                 False                                                  |\n",
            "| False | False | False | False | False | True  | True  |                                                 False                                                  |\n",
            "| False | False | False | False | False | True  | False |                                                 False                                                  |\n",
            "| False | False | False | False | False | False | True  |                                                 False                                                  |\n",
            "| False | False | False | False | False | False | False |                                                 False                                                  |\n",
            "+-------+-------+-------+-------+-------+-------+-------+--------------------------------------------------------------------------------------------------------+\n",
            "<bound method Truths.valuation of <ttg.ttg.Truths object at 0x7e203e74a690>>\n"
          ]
        }
      ]
    },
    {
      "cell_type": "markdown",
      "source": [
        "![download.jfif](data:image/jpeg;base64,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)"
      ],
      "metadata": {
        "id": "weFWwcevmDHs"
      }
    },
    {
      "cell_type": "markdown",
      "source": [
        "![uili uilo uilai.jfif](data:image/jpeg;base64,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)"
      ],
      "metadata": {
        "id": "aQu9JztLm6-k"
      }
    },
    {
      "cell_type": "markdown",
      "source": [
        "![gettyimages-517647042-612x612.jpg](data:image/jpeg;base64,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)"
      ],
      "metadata": {
        "id": "xEsbhBWLnCHk"
      }
    }
  ]
}